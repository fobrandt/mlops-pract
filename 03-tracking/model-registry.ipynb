{
 "cells": [
  {
   "cell_type": "code",
   "execution_count": 4,
   "id": "dc320cb1-52f2-4420-9f01-90b0beb87aee",
   "metadata": {},
   "outputs": [],
   "source": [
    "from mlflow.tracking import MlflowClient\n",
    "\n",
    "# MLFLOW_TRACKING_URI = 'sqlite:///mlflow.db'\n",
    "MLFLOW_TRACKING_URI = 'http://127.0.0.1:5000'\n",
    "\n",
    "client = MlflowClient(tracking_uri=MLFLOW_TRACKING_URI)"
   ]
  },
  {
   "cell_type": "code",
   "execution_count": 5,
   "id": "41696083-de35-4100-bdb3-6189953ee00e",
   "metadata": {},
   "outputs": [
    {
     "data": {
      "text/plain": [
       "[<Experiment: artifact_location='mlflow-artifacts:/5', creation_time=1726421041867, experiment_id='5', last_update_time=1726421041867, lifecycle_stage='active', name='nyc-taxi-experiment-test/model-registry-example', tags={}>,\n",
       " <Experiment: artifact_location='mlflow-artifacts:/4', creation_time=1725297092935, experiment_id='4', last_update_time=1725297092935, lifecycle_stage='active', name='nyc-taxi-experiment-test', tags={}>,\n",
       " <Experiment: artifact_location='mlflow-artifacts:/1', creation_time=1724616958895, experiment_id='1', last_update_time=1724616958895, lifecycle_stage='active', name='test', tags={}>,\n",
       " <Experiment: artifact_location='mlflow-artifacts:/0', creation_time=1724613800874, experiment_id='0', last_update_time=1724613800874, lifecycle_stage='active', name='Default', tags={}>]"
      ]
     },
     "execution_count": 5,
     "metadata": {},
     "output_type": "execute_result"
    }
   ],
   "source": [
    "client.search_experiments()"
   ]
  },
  {
   "cell_type": "code",
   "execution_count": 36,
   "id": "5a464089-46b2-42a8-9c7c-7a13b5a722b7",
   "metadata": {},
   "outputs": [],
   "source": [
    "from mlflow.entities import ViewType\n",
    "\n",
    "runs = client.search_runs(\n",
    "    experiment_ids='5',\n",
    "    # filter_string=\"metrics.rmse<6.8\",\n",
    "    filter_string=\"\",\n",
    "    run_view_type=ViewType.ACTIVE_ONLY,\n",
    "    max_results=5,\n",
    "    order_by=['metrics.rmse ASC']\n",
    ")\n"
   ]
  },
  {
   "cell_type": "code",
   "execution_count": 37,
   "id": "5f508592-40b2-4b74-aba9-cb2ee1d0368b",
   "metadata": {},
   "outputs": [
    {
     "name": "stdout",
     "output_type": "stream",
     "text": [
      "run id: a1f019666b2847d08db251316ee853d1 , rmse: 6.3850\n",
      "run id: 364159005fea4c7696481ef26a455881 , rmse: 6.5862\n",
      "run id: 62fdf9d14629491f84d8e0c3c9631ebc , rmse: 6.8443\n",
      "run id: d764fceeb1234745b1d3da8e3a8ded77 , rmse: 991.7551\n",
      "run id: 31d47de8fda24adcb8d96abb4d5be019 , rmse: 6.1657\n"
     ]
    }
   ],
   "source": [
    "for run in runs:\n",
    "    try:\n",
    "        print(f\"run id: {run.info.run_id} , rmse: {run.data.metrics['rmse']:.4f}\")\n",
    "    except:\n",
    "        print(f\"run id: {run.info.run_id} , rmse: {run.data.metrics['validation-rmse']:.4f}\")"
   ]
  },
  {
   "cell_type": "markdown",
   "id": "b7527952-2ce1-41bd-808a-19c2ad6b50cd",
   "metadata": {},
   "source": [
    "#### example of registering model through api"
   ]
  },
  {
   "cell_type": "code",
   "execution_count": 38,
   "id": "cafe379b-d155-4c80-ada5-eb59d9e7d660",
   "metadata": {},
   "outputs": [],
   "source": [
    "import mlflow\n",
    "\n",
    "mlflow.set_tracking_uri(MLFLOW_TRACKING_URI)"
   ]
  },
  {
   "cell_type": "code",
   "execution_count": 39,
   "id": "b38a82d9-d5e1-4670-a263-636b97fd7fe7",
   "metadata": {},
   "outputs": [
    {
     "name": "stderr",
     "output_type": "stream",
     "text": [
      "Registered model 'nyc-taxi-regressor' already exists. Creating a new version of this model...\n",
      "2024/09/15 18:33:50 INFO mlflow.store.model_registry.abstract_store: Waiting up to 300 seconds for model version to finish creation. Model name: nyc-taxi-regressor, version 3\n",
      "Created version '3' of model 'nyc-taxi-regressor'.\n"
     ]
    },
    {
     "data": {
      "text/plain": [
       "<ModelVersion: aliases=[], creation_timestamp=1726425230253, current_stage='None', description='', last_updated_timestamp=1726425230253, name='nyc-taxi-regressor', run_id='364159005fea4c7696481ef26a455881', run_link='', source='mlflow-artifacts:/5/364159005fea4c7696481ef26a455881/artifacts/model', status='READY', status_message='', tags={}, user_id='', version='3'>"
      ]
     },
     "execution_count": 39,
     "metadata": {},
     "output_type": "execute_result"
    }
   ],
   "source": [
    "run_id = '364159005fea4c7696481ef26a455881'\n",
    "model_uri = f\"runs:/{run_id}/model\"\n",
    "mlflow.register_model(model_uri=model_uri,name='nyc-taxi-regressor')"
   ]
  },
  {
   "cell_type": "markdown",
   "id": "79f1d6d6-e545-4fdd-a3a3-40886e4550e2",
   "metadata": {},
   "source": [
    "#### Changing stages"
   ]
  },
  {
   "cell_type": "code",
   "execution_count": 43,
   "id": "10db9103-68cd-495f-a61d-5df64ce6a268",
   "metadata": {},
   "outputs": [
    {
     "name": "stdout",
     "output_type": "stream",
     "text": [
      "version:1, stage: Production\n",
      "version:3, stage: Staging\n"
     ]
    },
    {
     "name": "stderr",
     "output_type": "stream",
     "text": [
      "/tmp/ipykernel_29095/3424221195.py:2: FutureWarning: ``mlflow.tracking.client.MlflowClient.get_latest_versions`` is deprecated since 2.9.0. Model registry stages will be removed in a future major release. To learn more about the deprecation of model registry stages, see our migration guide here: https://mlflow.org/docs/latest/model-registry.html#migrating-from-stages\n",
      "  latest_version = client.get_latest_versions(name=model_name)\n"
     ]
    }
   ],
   "source": [
    "model_name = 'nyc-taxi-regressor'\n",
    "latest_version = client.get_latest_versions(name=model_name)\n",
    "\n",
    "for version in latest_version:\n",
    "    print(f\"version:{version.version}, stage: {version.current_stage}\")\n",
    "    ## Note: if there are two models in 'staging' it will only show the most recent "
   ]
  },
  {
   "cell_type": "code",
   "execution_count": 42,
   "id": "20db242a-bdee-4239-9e7c-bd735fa6accf",
   "metadata": {},
   "outputs": [
    {
     "name": "stderr",
     "output_type": "stream",
     "text": [
      "/tmp/ipykernel_29095/737636949.py:1: FutureWarning: ``mlflow.tracking.client.MlflowClient.transition_model_version_stage`` is deprecated since 2.9.0. Model registry stages will be removed in a future major release. To learn more about the deprecation of model registry stages, see our migration guide here: https://mlflow.org/docs/latest/model-registry.html#migrating-from-stages\n",
      "  client.transition_model_version_stage(\n"
     ]
    },
    {
     "data": {
      "text/plain": [
       "<ModelVersion: aliases=[], creation_timestamp=1726425230253, current_stage='Staging', description='', last_updated_timestamp=1726425639617, name='nyc-taxi-regressor', run_id='364159005fea4c7696481ef26a455881', run_link='', source='mlflow-artifacts:/5/364159005fea4c7696481ef26a455881/artifacts/model', status='READY', status_message='', tags={}, user_id='', version='3'>"
      ]
     },
     "execution_count": 42,
     "metadata": {},
     "output_type": "execute_result"
    }
   ],
   "source": [
    "client.transition_model_version_stage(\n",
    "    name = model_name,\n",
    "    version = 3,\n",
    "    stage='Staging',\n",
    "    archive_existing_versions=False\n",
    "    \n",
    ")"
   ]
  },
  {
   "cell_type": "code",
   "execution_count": null,
   "id": "e309fb47-3c37-434c-af84-1df0c97ef3bc",
   "metadata": {},
   "outputs": [],
   "source": []
  }
 ],
 "metadata": {
  "kernelspec": {
   "display_name": "Python 3 (ipykernel)",
   "language": "python",
   "name": "python3"
  },
  "language_info": {
   "codemirror_mode": {
    "name": "ipython",
    "version": 3
   },
   "file_extension": ".py",
   "mimetype": "text/x-python",
   "name": "python",
   "nbconvert_exporter": "python",
   "pygments_lexer": "ipython3",
   "version": "3.9.19"
  }
 },
 "nbformat": 4,
 "nbformat_minor": 5
}
